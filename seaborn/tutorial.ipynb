{
 "cells": [
  {
   "cell_type": "markdown",
   "id": "4737d30a",
   "metadata": {},
   "source": [
    "# Seaborn tutorial"
   ]
  },
  {
   "cell_type": "code",
   "execution_count": null,
   "id": "fbcd02dd",
   "metadata": {},
   "outputs": [],
   "source": [
    "import seaborn as sns\n",
    "import matplotlib.pyplot as plt\n",
    "import pandas as pd\n",
    "import numpy as np\n",
    "\n",
    "sns.set_theme()"
   ]
  },
  {
   "cell_type": "markdown",
   "id": "92e02d03",
   "metadata": {},
   "source": [
    "## An introduction to seaborn"
   ]
  },
  {
   "cell_type": "code",
   "execution_count": null,
   "id": "392a8177",
   "metadata": {},
   "outputs": [],
   "source": [
    "tips = sns.load_dataset(\"tips\")"
   ]
  },
  {
   "cell_type": "code",
   "execution_count": null,
   "id": "7cd684e4",
   "metadata": {},
   "outputs": [],
   "source": [
    "sns.relplot(\n",
    "    data=tips,\n",
    "    x=\"total_bill\",\n",
    "    y=\"tip\",\n",
    "    col=\"time\",\n",
    "    hue=\"smoker\",\n",
    "    style=\"smoker\",\n",
    "    size=\"size\"\n",
    ")"
   ]
  },
  {
   "cell_type": "markdown",
   "id": "f0c4c59c",
   "metadata": {},
   "source": [
    "## A high-level API for statistical graphics"
   ]
  },
  {
   "cell_type": "code",
   "execution_count": null,
   "id": "a6cc1ca8",
   "metadata": {},
   "outputs": [],
   "source": [
    "dots = sns.load_dataset(\"dots\")\n",
    "sns.relplot(\n",
    "    data=dots,\n",
    "    kind=\"line\",\n",
    "    x=\"time\",\n",
    "    y=\"firing_rate\",\n",
    "    col=\"align\",\n",
    "    hue=\"choice\",\n",
    "    style=\"coherence\",\n",
    "    size=\"coherence\",\n",
    "    facet_kws=dict(sharex=False)\n",
    ")"
   ]
  },
  {
   "cell_type": "markdown",
   "id": "a3b3e7a5",
   "metadata": {},
   "source": [
    "## Statistical estimation"
   ]
  },
  {
   "cell_type": "code",
   "execution_count": null,
   "id": "1c8e65a9",
   "metadata": {},
   "outputs": [],
   "source": [
    "frmi = sns.load_dataset(\"fmri\")\n",
    "sns.relplot(\n",
    "    data=frmi,\n",
    "    x=\"timepoint\",\n",
    "    y=\"signal\",\n",
    "    col=\"region\",\n",
    "    hue=\"event\",\n",
    "    style=\"event\",\n",
    "    size=\"event\",\n",
    "    kind=\"line\"\n",
    ")"
   ]
  }
 ],
 "metadata": {
  "kernelspec": {
   "display_name": "base",
   "language": "python",
   "name": "python3"
  },
  "language_info": {
   "codemirror_mode": {
    "name": "ipython",
    "version": 3
   },
   "file_extension": ".py",
   "mimetype": "text/x-python",
   "name": "python",
   "nbconvert_exporter": "python",
   "pygments_lexer": "ipython3",
   "version": "3.12.7"
  }
 },
 "nbformat": 4,
 "nbformat_minor": 5
}
