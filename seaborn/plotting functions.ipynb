{
 "cells": [
  {
   "cell_type": "markdown",
   "id": "216910b0",
   "metadata": {},
   "source": [
    "## Overview of seaborn plotting functions"
   ]
  },
  {
   "cell_type": "code",
   "execution_count": 1,
   "id": "21e79bc8",
   "metadata": {},
   "outputs": [],
   "source": [
    "import seaborn as sns\n",
    "import matplotlib.pyplot as plt\n"
   ]
  },
  {
   "cell_type": "markdown",
   "id": "4ff1a53c",
   "metadata": {},
   "source": [
    "### Similar functions for similar tasks"
   ]
  },
  {
   "cell_type": "code",
   "execution_count": null,
   "id": "5433b2d1",
   "metadata": {},
   "outputs": [],
   "source": [
    "penguins = sns.load_dataset(\"penguins\")\n",
    "print(penguins.head())\n",
    "print(penguins.info())"
   ]
  },
  {
   "cell_type": "code",
   "execution_count": null,
   "id": "75acfb5c",
   "metadata": {},
   "outputs": [],
   "source": [
    "sns.histplot(\n",
    "    data = penguins,\n",
    "    x = \"flipper_length_mm\",\n",
    "    hue = \"species\",\n",
    "    multiple = \"stack\"\n",
    ")"
   ]
  },
  {
   "cell_type": "code",
   "execution_count": null,
   "id": "cb7e76fe",
   "metadata": {},
   "outputs": [],
   "source": [
    "sns.kdeplot(\n",
    "    data = penguins,\n",
    "    x = \"flipper_length_mm\",\n",
    "    hue = \"species\",\n",
    "    multiple = \"stack\",\n",
    "    fill = True\n",
    ")"
   ]
  },
  {
   "cell_type": "markdown",
   "id": "6d4f876f",
   "metadata": {},
   "source": [
    "This can also be accomplished using displot, histplot, or kdeplot. The difference is that displot is a figure-level function, while histplot and kdeplot are axes-level functions. This means that displot creates a new figure for the plot, while histplot and kdeplot add to an existing axes."
   ]
  },
  {
   "cell_type": "code",
   "execution_count": null,
   "id": "049842db",
   "metadata": {},
   "outputs": [],
   "source": [
    "sns.displot(\n",
    "    data = penguins,\n",
    "    x = \"flipper_length_mm\",\n",
    "    hue = \"species\",\n",
    "    multiple = \"stack\"\n",
    ")"
   ]
  },
  {
   "cell_type": "code",
   "execution_count": null,
   "id": "01d595ff",
   "metadata": {},
   "outputs": [],
   "source": [
    "sns.displot(\n",
    "    data = penguins,\n",
    "    kind = \"kde\",\n",
    "    x = \"flipper_length_mm\",\n",
    "    hue = \"species\",\n",
    "    multiple = \"stack\",\n",
    "    fill = True\n",
    ")"
   ]
  },
  {
   "cell_type": "markdown",
   "id": "abd1daf6",
   "metadata": {},
   "source": [
    "An advantage of using displot is that it can create multiple subplots for different subsets of the data, while histplot and kdeplot are limited to a single subplot. However, displot is less flexible than histplot and kdeplot when it comes to customizing the appearance of the plot."
   ]
  },
  {
   "cell_type": "code",
   "execution_count": null,
   "id": "e793be45",
   "metadata": {},
   "outputs": [],
   "source": [
    "sns.displot(\n",
    "    data = penguins,\n",
    "    kind = \"hist\",\n",
    "    x = \"flipper_length_mm\",\n",
    "    hue = \"species\",\n",
    "    col = \"species\",\n",
    ")"
   ]
  },
  {
   "cell_type": "code",
   "execution_count": null,
   "id": "dc377655",
   "metadata": {},
   "outputs": [],
   "source": [
    "f, ax = plt.subplots(1, 2,\n",
    "                    figsize = (8, 4),\n",
    "                    gridspec_kw = dict(width_ratios = [4, 3]))\n",
    "sns.scatterplot(\n",
    "    data = penguins,\n",
    "    x = \"flipper_length_mm\",\n",
    "    y = \"body_mass_g\",\n",
    "    hue = \"species\",\n",
    "    ax = ax[0]\n",
    ")\n",
    "sns.histplot(\n",
    "    data = penguins,\n",
    "    x = \"flipper_length_mm\",\n",
    "    y = \"body_mass_g\",\n",
    "    hue = \"species\",\n",
    "    shrink = 0.8,\n",
    "    alpha = 0.8,\n",
    "    legend = False,\n",
    "    ax = ax[1]\n",
    ")\n",
    "f.tight_layout()"
   ]
  },
  {
   "cell_type": "markdown",
   "id": "c7cb7e66",
   "metadata": {},
   "source": [
    "### Figure-level functions own their own figure"
   ]
  },
  {
   "cell_type": "code",
   "execution_count": null,
   "id": "07d3a9c2",
   "metadata": {},
   "outputs": [],
   "source": [
    "tips = sns.load_dataset(\"tips\")\n",
    "g = sns.relplot(\n",
    "    data = tips,\n",
    "    x = \"total_bill\",\n",
    "    y = \"tip\"\n",
    ")\n",
    "g.ax.axline(\n",
    "    xy1 = (10, 2),\n",
    "    slope = 0.2,\n",
    "    color = \"b\",\n",
    "    dashes = (5, 2)\n",
    ")\n",
    "g.ax.axline(\n",
    "    xy1 = (10, 3),\n",
    "    slope = 0.2,\n",
    "    color = \"r\",\n",
    "    dashes = (5, 2)\n",
    ")"
   ]
  },
  {
   "cell_type": "markdown",
   "id": "dda720f2",
   "metadata": {},
   "source": [
    "### Customizing plots from a figure-level function"
   ]
  },
  {
   "cell_type": "code",
   "execution_count": null,
   "id": "c8d67302",
   "metadata": {},
   "outputs": [],
   "source": [
    "g = sns.relplot(\n",
    "    data = penguins,\n",
    "    x = \"flipper_length_mm\",\n",
    "    y = \"body_mass_g\",\n",
    "    hue = \"species\",\n",
    "    col = \"sex\"\n",
    ")\n",
    "g.set_axis_labels(\"Flipper Length (mm)\", \"Body Mass (g)\")"
   ]
  }
 ],
 "metadata": {
  "kernelspec": {
   "display_name": "base",
   "language": "python",
   "name": "python3"
  },
  "language_info": {
   "codemirror_mode": {
    "name": "ipython",
    "version": 3
   },
   "file_extension": ".py",
   "mimetype": "text/x-python",
   "name": "python",
   "nbconvert_exporter": "python",
   "pygments_lexer": "ipython3",
   "version": "3.12.7"
  }
 },
 "nbformat": 4,
 "nbformat_minor": 5
}
