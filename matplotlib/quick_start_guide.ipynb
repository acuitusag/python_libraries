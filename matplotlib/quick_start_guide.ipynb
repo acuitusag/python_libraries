{
 "cells": [
  {
   "cell_type": "markdown",
   "id": "7eb0cfa4",
   "metadata": {},
   "source": [
    "# Quick Start Guide"
   ]
  },
  {
   "cell_type": "code",
   "execution_count": null,
   "id": "81628fce",
   "metadata": {},
   "outputs": [],
   "source": [
    "import matplotlib.pyplot as plt\n",
    "import numpy as np\n",
    "import pandas as pd"
   ]
  },
  {
   "cell_type": "markdown",
   "id": "b65c4d90",
   "metadata": {},
   "source": [
    "## A simple example"
   ]
  },
  {
   "cell_type": "code",
   "execution_count": null,
   "id": "2a7886be",
   "metadata": {},
   "outputs": [],
   "source": [
    "fig, ax = plt.subplots()\n",
    "ax.plot([1, 2, 3, 4], [1, 4, 2, 3])"
   ]
  },
  {
   "cell_type": "markdown",
   "id": "cdd61c97",
   "metadata": {},
   "source": [
    "## Parts of a Figure"
   ]
  },
  {
   "cell_type": "markdown",
   "id": "c1fe471e",
   "metadata": {},
   "source": [
    "### Figure"
   ]
  },
  {
   "cell_type": "code",
   "execution_count": null,
   "id": "241ad7a7",
   "metadata": {},
   "outputs": [],
   "source": [
    "fig = plt.figure()\n",
    "fig, ax = plt.subplots()\n",
    "fig, ax = plt.subplots(2, 2)\n",
    "fig, ax = plt.subplot_mosaic(\n",
    "    [\n",
    "        [\"left\", \"right_top\"],\n",
    "        [\"left\", \"right_bottom\"],\n",
    "    ]\n",
    ")"
   ]
  },
  {
   "cell_type": "markdown",
   "id": "b32e6a90",
   "metadata": {},
   "source": [
    "### Axes"
   ]
  },
  {
   "cell_type": "markdown",
   "id": "86b76c36",
   "metadata": {},
   "source": [
    "An Axes is a part of a figure that contains the data. It is the area where the data is plotted. A figure can have multiple axes, and each axis can have its own set of data. Each axes can have its own title, labels, and other properties. The axes are the coordinate system in which the data is plotted. The axes are created using the `add_axes` method of the figure object."
   ]
  },
  {
   "cell_type": "markdown",
   "id": "5e06a84e",
   "metadata": {},
   "source": [
    "### Axis"
   ]
  },
  {
   "cell_type": "markdown",
   "id": "3978d6dd",
   "metadata": {},
   "source": [
    "Axis sets the scale of the data. It is the part of the axes that contains the ticks and labels. The axis is created using the `add_axis` method of the axes object. The axis can be set to a specific scale, such as linear or logarithmic, using the `set_xscale` and `set_yscale` methods of the axes object. The axis can also be set to a specific range using the `set_xlim` and `set_ylim` methods of the axes object."
   ]
  },
  {
   "cell_type": "markdown",
   "id": "a9438886",
   "metadata": {},
   "source": [
    "### Artist"
   ]
  },
  {
   "cell_type": "markdown",
   "id": "fdef05b3",
   "metadata": {},
   "source": [
    "Basically, an artist is anything that can be drawn on the figure. This includes lines, text, and shapes. Artists are created using the `add_artist` method of the axes object. Artists can be customized using various methods, such as `set_color`, `set_linewidth`, and `set_fontsize`. Artists can also be added to the figure using the `add_artist` method of the figure object."
   ]
  },
  {
   "cell_type": "markdown",
   "id": "0c9c691e",
   "metadata": {},
   "source": [
    "### Types of inputs to plotting functions"
   ]
  },
  {
   "cell_type": "markdown",
   "id": "c1c49c69",
   "metadata": {},
   "source": [
    "Plotting functions expect numpy.array-like objects as inputs. This includes lists, tuples, and numpy arrays. The inputs can be 1D or 2D arrays. The inputs can also be masked arrays, which are arrays that have missing values. The inputs can also be pandas dataframes, which are 2D arrays with labeled axes. The inputs can also be xarray dataarrays, which are n-dimensional arrays with labeled axes. The inputs can also be dask arrays, which are large arrays that are split into smaller chunks for parallel processing."
   ]
  },
  {
   "cell_type": "code",
   "execution_count": null,
   "id": "6b1148de",
   "metadata": {},
   "outputs": [],
   "source": [
    "b = np.matrix([[1, 2], [3, 4]])\n",
    "b_asarray = np.asarray(b)\n",
    "b_asarray"
   ]
  },
  {
   "cell_type": "code",
   "execution_count": null,
   "id": "83d8c04e",
   "metadata": {},
   "outputs": [],
   "source": [
    "np.random.seed(19680801)\n",
    "data = {'a': np.random.randn(50),\n",
    "        'c': np.random.randint(0, 50, 50),\n",
    "        'd': np.random.randn(50)}\n",
    "data['b'] =data['a'] + 10 * np.random.randn(50)\n",
    "data['d'] = np.abs(data['d']) * 100\n",
    "\n",
    "fig, ax = plt.subplots(figsize = (5, 2.7), layout='constrained')\n",
    "ax.scatter('a', 'b', c='c', s='d', data=data)\n",
    "ax.set_xlabel(\"entry a\")\n",
    "ax.set_ylabel(\"entry b\")\n",
    "ax.set_title(\"Scatter plot with varying marker size and color\")\n"
   ]
  },
  {
   "cell_type": "markdown",
   "id": "c60b239a",
   "metadata": {},
   "source": [
    "## Coding styles"
   ]
  },
  {
   "cell_type": "markdown",
   "id": "f69f6678",
   "metadata": {},
   "source": [
    "### The explicit and the implicit interfaces"
   ]
  },
  {
   "cell_type": "markdown",
   "id": "f331cbb4",
   "metadata": {},
   "source": [
    "There are essentially two ways to use matplotlib. The first is the explicit interface, which is the most common way to use matplotlib. The explicit interface is the most flexible and powerful way to use matplotlib. The explicit interface allows you to create complex figures with multiple axes and artists. The explicit interface also allows you to customize the figure and axes in great detail."
   ]
  },
  {
   "cell_type": "code",
   "execution_count": null,
   "id": "55c61b86",
   "metadata": {},
   "outputs": [],
   "source": [
    "x = np.linspace(0, 2, 100)\n",
    "\n",
    "fig, ax = plt.subplots(figsize=(5, 2.7), layout='constrained')\n",
    "ax.plot(x, x, label='linear')\n",
    "ax.plot(x, x**2, label='quadratic')\n",
    "ax.plot(x, x**3, label='cubic')\n",
    "ax.set_xlabel(\"x label\")\n",
    "ax.set_ylabel(\"y label\")\n",
    "ax.set_title(\"Simple plot with legend\")\n",
    "ax.legend()"
   ]
  },
  {
   "cell_type": "code",
   "execution_count": null,
   "id": "7d33fc0a",
   "metadata": {},
   "outputs": [],
   "source": [
    "x = np.linspace(0, 2, 100)\n",
    "\n",
    "plt.figure(figsize=(5, 2.7), layout='constrained')\n",
    "plt.plot(x, x, label='linear')\n",
    "plt.plot(x, x**2, label='quadratic')\n",
    "plt.plot(x, x**3, label='cubic')\n",
    "plt.xlabel(\"x label\")\n",
    "plt.ylabel(\"y label\")\n",
    "plt.title(\"Simple plot with legend\")\n",
    "plt.legend()"
   ]
  },
  {
   "cell_type": "markdown",
   "id": "e4120952",
   "metadata": {},
   "source": [
    "### Making helper functions"
   ]
  },
  {
   "cell_type": "code",
   "execution_count": null,
   "id": "9dcdb1f7",
   "metadata": {},
   "outputs": [],
   "source": [
    "def my_plotter(ax, data1, data2, param_dict):\n",
    "    out = ax.plot(data1, data2, **param_dict)\n",
    "    return out"
   ]
  },
  {
   "cell_type": "code",
   "execution_count": null,
   "id": "515a6871",
   "metadata": {},
   "outputs": [],
   "source": [
    "data1, data2, data3, data4 = np.random.randn(4, 100)\n",
    "fig, (ax1, ax2) = plt.subplots(1, 2, figsize=(5, 2.7))\n",
    "my_plotter(ax1, data1, data2, {'color': 'blue', 'marker': 'x'})\n",
    "my_plotter(ax2, data3, data4, {'color': 'red', 'marker': 'o'})\n"
   ]
  },
  {
   "cell_type": "markdown",
   "id": "5c046fb2",
   "metadata": {},
   "source": [
    "## Styling Artists"
   ]
  },
  {
   "cell_type": "code",
   "execution_count": null,
   "id": "e391a7dc",
   "metadata": {},
   "outputs": [],
   "source": [
    "fig, ax = plt.subplots(figsize=(5, 2.7), layout='constrained')\n",
    "x = np.arange(len(data1))\n",
    "ax.plot(\n",
    "    x, np.cumsum(data1),\n",
    "    color='blue',\n",
    "    linewidth=3,\n",
    "    linestyle='--'\n",
    ")\n",
    "l, = ax.plot(\n",
    "    x, np.cumsum(data2),\n",
    "    color='orange',\n",
    "    linewidth=3\n",
    ")\n",
    "l.set_linestyle(':')"
   ]
  },
  {
   "cell_type": "markdown",
   "id": "0b73b79e",
   "metadata": {},
   "source": [
    "### Colors"
   ]
  },
  {
   "cell_type": "code",
   "execution_count": null,
   "id": "bb680126",
   "metadata": {},
   "outputs": [],
   "source": [
    "fig, ax = plt.subplots(figsize=(5, 2.7), layout='constrained')\n",
    "ax.scatter(data1, data2, s = 50, color='C0', edgecolors='k')"
   ]
  },
  {
   "cell_type": "markdown",
   "id": "8f709e84",
   "metadata": {},
   "source": [
    "### Linewidths, linestyles, and markersizes"
   ]
  },
  {
   "cell_type": "code",
   "execution_count": null,
   "id": "3cce17d7",
   "metadata": {},
   "outputs": [],
   "source": [
    "fig, ax = plt.subplots(figsize=(5, 2.7), layout='constrained')\n",
    "ax.plot(data1, 'o', label='data1')\n",
    "ax.plot(data2, 'd', label='data2')\n",
    "ax.plot(data3, 'v', label='data3')\n",
    "ax.plot(data4, 's', label='data4')\n",
    "ax.set_title(\"Different markers\")\n",
    "ax.legend()"
   ]
  },
  {
   "cell_type": "markdown",
   "id": "bc85f794",
   "metadata": {},
   "source": [
    "## Labelling plots\n",
    "### Axes labels and text"
   ]
  },
  {
   "cell_type": "code",
   "execution_count": null,
   "id": "0e2cf750",
   "metadata": {},
   "outputs": [],
   "source": [
    "mu, sigma = 115, 15\n",
    "x = np.random.normal(mu, sigma, 10000)\n",
    "fig, ax = plt.subplots(figsize=(5, 2.7), layout='constrained')\n",
    "# the histogram of the data\n",
    "n, bins, patches = ax.hist(x, 50, density=True, facecolor='C0', alpha=0.75)\n",
    "\n",
    "ax.set_xlabel('Length [cm]', fontsize=10, color='red')\n",
    "ax.set_ylabel('Probability', fontsize=10, color='red')\n",
    "ax.set_ylabel('Probability')\n",
    "ax.set_title('Aardvark lengths\\n (not really)',\n",
    "              fontdict={'fontsize': 14, 'color': 'green'})\n",
    "ax.text(75, .025, r'$\\mu=115,\\ \\sigma=15$')\n",
    "ax.axis([55, 175, 0, 0.03])\n",
    "ax.grid(True)"
   ]
  },
  {
   "cell_type": "markdown",
   "id": "80ba0fe6",
   "metadata": {},
   "source": [
    "### Using matematical expressions in text"
   ]
  },
  {
   "cell_type": "code",
   "execution_count": null,
   "id": "fc438154",
   "metadata": {},
   "outputs": [],
   "source": [
    "ax.set_title(r'$\\mu=115,\\ \\sigma=15$', fontsize=10, color='red')"
   ]
  },
  {
   "cell_type": "markdown",
   "id": "84ca9501",
   "metadata": {},
   "source": [
    "### Annotations"
   ]
  },
  {
   "cell_type": "code",
   "execution_count": null,
   "id": "402bdda2",
   "metadata": {},
   "outputs": [],
   "source": [
    "fig, ax = plt.subplots(figsize=(5, 2.7))\n",
    "\n",
    "t = np.arange(0.0, 5.0, 0.01)\n",
    "s = np.cos(2 * np.pi * t)\n",
    "line,  = ax.plot(t, s, lw=2, color='C0')\n",
    "ax.set_xlabel('time (s)', fontsize=10, color='red')\n",
    "\n",
    "ax.annotate('local max',\n",
    "            xy=(2, 1), xycoords='data',\n",
    "            xytext=(3, 1.5), textcoords='data',\n",
    "            arrowprops=dict(facecolor='black', shrink=0.05),\n",
    "            fontsize=10, color='red')\n",
    "\n",
    "ax.set_ylim(-2, 2)\n",
    "ax.set_xlim(0, 5)"
   ]
  },
  {
   "cell_type": "markdown",
   "id": "9405fe6f",
   "metadata": {},
   "source": [
    "### Legends"
   ]
  },
  {
   "cell_type": "code",
   "execution_count": null,
   "id": "d8cee822",
   "metadata": {},
   "outputs": [],
   "source": [
    "fig, ax = plt.subplots(figsize=(5, 2.7), layout='constrained')\n",
    "ax.plot(np.arange(len(data1)), data1, label='data1')\n",
    "ax.plot(np.arange(len(data2)), data2, label='data2')\n",
    "ax.plot(np.arange(len(data3)), data3, 'd', label='data3')\n",
    "ax.set_title(\"Different markers\")\n",
    "ax.legend()"
   ]
  },
  {
   "cell_type": "markdown",
   "id": "7a69af91",
   "metadata": {},
   "source": [
    "## Axis scales and ticks\n",
    "### Axis scales"
   ]
  },
  {
   "cell_type": "code",
   "execution_count": null,
   "id": "30cfcd4f",
   "metadata": {},
   "outputs": [],
   "source": [
    "fig, axs = plt.subplots(1, 2, figsize=(5, 2.7), layout='constrained')\n",
    "xdata = np.arange(len(data1))\n",
    "data = 10**data1\n",
    "axs[0].plot(xdata, data)\n",
    "\n",
    "axs[1].set_yscale('log')\n",
    "axs[1].plot(xdata, data)"
   ]
  },
  {
   "cell_type": "markdown",
   "id": "8172ae1b",
   "metadata": {},
   "source": [
    "### Tick locators and formatters"
   ]
  },
  {
   "cell_type": "code",
   "execution_count": null,
   "id": "0d4e6323",
   "metadata": {},
   "outputs": [],
   "source": [
    "fig, axs = plt.subplots(2, 1, layout='constrained')\n",
    "axs[0].plot(xdata, data1)\n",
    "axs[0].set_title('Automatic ticks')\n",
    "\n",
    "axs[1].plot(xdata, data1)\n",
    "axs[1].set_xticks(np.arange(0, 100, 30), ['zero', '30', 'sixty', '90'])\n",
    "axs[1].set_yticks([-1.5, 0, 1.5])  # note that we don't need to specify labels\n",
    "axs[1].set_title('Manual ticks')"
   ]
  },
  {
   "cell_type": "markdown",
   "id": "85c7e851",
   "metadata": {},
   "source": [
    "### Plotting dates and strings"
   ]
  },
  {
   "cell_type": "code",
   "execution_count": null,
   "id": "618a58fd",
   "metadata": {},
   "outputs": [],
   "source": [
    "from matplotlib.dates import ConciseDateFormatter\n",
    "\n",
    "fig, ax = plt.subplots(figsize=(5, 2.7), layout='constrained')\n",
    "dates = np.arange(np.datetime64('2021-11-15'), np.datetime64('2021-12-25'),\n",
    "                  np.timedelta64(1, 'h'))\n",
    "data = np.cumsum(np.random.randn(len(dates)))\n",
    "ax.plot(dates, data)\n",
    "ax.xaxis.set_major_formatter(ConciseDateFormatter(ax.xaxis.get_major_locator()))"
   ]
  },
  {
   "cell_type": "code",
   "execution_count": null,
   "id": "275debc4",
   "metadata": {},
   "outputs": [],
   "source": [
    "time_series = pd.DataFrame({'date': dates, 'data': data}).set_index('date')\n",
    "\n",
    "fig, ax = plt.subplots(figsize=(5, 2.7), layout='constrained')\n",
    "ax.plot(time_series)\n",
    "ax.xaxis.set_major_formatter(ConciseDateFormatter(ax.xaxis.get_major_locator()))"
   ]
  },
  {
   "cell_type": "code",
   "execution_count": null,
   "id": "0daaa504",
   "metadata": {},
   "outputs": [],
   "source": [
    "fig, ax = plt.subplots(figsize=(5, 2.7), layout='constrained')\n",
    "categories = ['turnips', 'rutabaga', 'cucumber', 'pumpkins']\n",
    "data = np.random.rand(len(categories))\n",
    "\n",
    "bar_data = pd.DataFrame({'categories': categories, 'data': data})\n",
    "\n",
    "ax.bar(bar_data.categories, bar_data.data, color='lightblue', edgecolor='black')"
   ]
  },
  {
   "cell_type": "markdown",
   "id": "e0da1570",
   "metadata": {},
   "source": [
    "### Additional Axis objects"
   ]
  },
  {
   "cell_type": "code",
   "execution_count": null,
   "id": "a4825f08",
   "metadata": {},
   "outputs": [],
   "source": [
    "fig, (ax1, ax3) = plt.subplots(1, 2, figsize=(7, 2.7), layout='constrained')\n",
    "\n",
    "l1, = ax1.plot(t, s)\n",
    "ax2 = ax1.twinx()\n",
    "l2, = ax2.plot(t, range(len(t)), 'C1')\n",
    "ax2.legend([l1, l2], ['Sine (left)', 'Straight (right)'])\n",
    "\n",
    "ax3.plot(t, s)\n",
    "ax3.set_xlabel('Angle [rad]')\n",
    "ax4 = ax3.secondary_xaxis('top', (np.rad2deg, np.deg2rad))\n",
    "ax4.set_xlabel('Angle [°]')"
   ]
  },
  {
   "cell_type": "markdown",
   "id": "aa132525",
   "metadata": {},
   "source": [
    "### Color mapped data"
   ]
  },
  {
   "cell_type": "code",
   "execution_count": null,
   "id": "a5f79d96",
   "metadata": {},
   "outputs": [],
   "source": [
    "from matplotlib.colors import LogNorm\n",
    "\n",
    "X, Y = np.meshgrid(np.linspace(-3, 3, 128), np.linspace(-3, 3, 128))\n",
    "Z = (1 - X/2 + X**5 + Y**3) * np.exp(-X**2 - Y**2)\n",
    "\n",
    "fig, axs = plt.subplots(2, 2, layout='constrained')\n",
    "\n",
    "pc = axs[0, 0].pcolormesh(X, Y, Z, vmin=-1, vmax=1, cmap='RdBu_r')\n",
    "fig.colorbar(pc, ax=axs[0, 0])\n",
    "axs[0, 0].set_title('pcolormesh()')\n",
    "\n",
    "co = axs[0, 1].contourf(X, Y, Z, levels=np.linspace(-1.25, 1.25, 11))\n",
    "fig.colorbar(co, ax=axs[0, 1])\n",
    "axs[0, 1].set_title('contourf()')\n",
    "\n",
    "pc = axs[1, 0].imshow(Z**2 * 100, cmap='plasma', norm=LogNorm(vmin=0.01, vmax=100))\n",
    "fig.colorbar(pc, ax=axs[1, 0], extend='both')\n",
    "axs[1, 0].set_title('imshow() with LogNorm()')\n",
    "\n",
    "pc = axs[1, 1].scatter(data1, data2, c=data3, cmap='RdBu_r')\n",
    "fig.colorbar(pc, ax=axs[1, 1], extend='both')\n",
    "axs[1, 1].set_title('scatter()')"
   ]
  },
  {
   "cell_type": "markdown",
   "id": "e85f72bf",
   "metadata": {},
   "source": [
    "## Working with multiple figures and axes"
   ]
  },
  {
   "cell_type": "code",
   "execution_count": 83,
   "id": "abf9df50",
   "metadata": {},
   "outputs": [
    {
     "data": {
      "text/plain": [
       "Text(0.5, 1.0, 'right')"
      ]
     },
     "execution_count": 83,
     "metadata": {},
     "output_type": "execute_result"
    },
    {
     "data": {
      "image/png": "[encoded data removed]",
      "text/plain": [
       "<Figure size 640x480 with 3 Axes>"
      ]
     },
     "metadata": {},
     "output_type": "display_data"
    }
   ],
   "source": [
    "fig, axd = plt.subplot_mosaic(\n",
    "    [\n",
    "        [\"upleft\", \"right\"],\n",
    "        [\"lowleft\", \"right\"],\n",
    "    ],\n",
    "    layout='constrained'\n",
    ")\n",
    "\n",
    "axd['upleft'].set_title('upleft')\n",
    "axd['lowleft'].set_title('lowleft')\n",
    "axd['right'].set_title('right')"
   ]
  }
 ],
 "metadata": {
  "kernelspec": {
   "display_name": "base",
   "language": "python",
   "name": "python3"
  },
  "language_info": {
   "codemirror_mode": {
    "name": "ipython",
    "version": 3
   },
   "file_extension": ".py",
   "mimetype": "text/x-python",
   "name": "python",
   "nbconvert_exporter": "python",
   "pygments_lexer": "ipython3",
   "version": "3.12.7"
  }
 },
 "nbformat": 4,
 "nbformat_minor": 5
}
