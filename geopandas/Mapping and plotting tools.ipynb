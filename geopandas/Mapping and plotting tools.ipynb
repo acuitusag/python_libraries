{
 "cells": [
  {
   "cell_type": "markdown",
   "id": "0e12ed29",
   "metadata": {},
   "source": [
    "# Making maps and plots\n",
    "## Mapping and plotting tools"
   ]
  },
  {
   "cell_type": "code",
   "execution_count": null,
   "id": "3830e9f3",
   "metadata": {},
   "outputs": [],
   "source": [
    "import geodatasets\n",
    "import geopandas as gpd\n",
    "import matplotlib.pyplot as plt\n",
    "import numpy as np"
   ]
  },
  {
   "cell_type": "code",
   "execution_count": null,
   "id": "771e338b",
   "metadata": {},
   "outputs": [],
   "source": [
    "chicago = gpd.read_file(geodatasets.get_path(\"geoda.chicago_commpop\"))\n",
    "groceries = gpd.read_file(geodatasets.get_path(\"geoda.groceries\"))"
   ]
  },
  {
   "cell_type": "code",
   "execution_count": null,
   "id": "9798e20f",
   "metadata": {},
   "outputs": [],
   "source": [
    "chicago.head()"
   ]
  },
  {
   "cell_type": "code",
   "execution_count": null,
   "id": "feca1d93",
   "metadata": {},
   "outputs": [],
   "source": [
    "chicago.plot()"
   ]
  },
  {
   "cell_type": "markdown",
   "id": "858279ab",
   "metadata": {},
   "source": [
    "## Choropleth maps"
   ]
  },
  {
   "cell_type": "code",
   "execution_count": null,
   "id": "bdf6085c",
   "metadata": {},
   "outputs": [],
   "source": [
    "chicago.plot(column=\"POP2010\")"
   ]
  },
  {
   "cell_type": "code",
   "execution_count": null,
   "id": "2044a9ed",
   "metadata": {},
   "outputs": [],
   "source": [
    "chicago.plot(column=\"POP2010\", legend=True)"
   ]
  },
  {
   "cell_type": "code",
   "execution_count": null,
   "id": "7270350c",
   "metadata": {},
   "outputs": [],
   "source": [
    "chicago.plot(\n",
    "    column=\"POP2010\",\n",
    "    legend=True,\n",
    "    legend_kwds={\"label\": \"Population by Census Tract\",\n",
    "                 \"orientation\": \"horizontal\"}\n",
    ")"
   ]
  },
  {
   "cell_type": "code",
   "execution_count": null,
   "id": "f1b66b4e",
   "metadata": {},
   "outputs": [],
   "source": [
    "from mpl_toolkits.axes_grid1 import make_axes_locatable\n",
    "\n",
    "fig, ax = plt.subplots(1, 1)\n",
    "\n",
    "divider = make_axes_locatable(ax)\n",
    "\n",
    "cax = divider.append_axes(\"bottom\", size=\"5%\", pad=0.1)\n",
    "chicago.plot(\n",
    "    column=\"POP2010\",\n",
    "    ax=ax,\n",
    "    cax=cax,\n",
    "    legend=True,\n",
    "    legend_kwds={\"label\": \"Population in 2010\",\n",
    "                 \"orientation\": \"horizontal\"}\n",
    ")"
   ]
  },
  {
   "cell_type": "markdown",
   "id": "3b40dd50",
   "metadata": {},
   "source": [
    "## Choosing colors"
   ]
  },
  {
   "cell_type": "code",
   "execution_count": null,
   "id": "086d9309",
   "metadata": {},
   "outputs": [],
   "source": [
    "chicago.plot(column=\"POP2010\", cmap=\"OrRd\")"
   ]
  },
  {
   "cell_type": "code",
   "execution_count": null,
   "id": "1a0d73f1",
   "metadata": {},
   "outputs": [],
   "source": [
    "chicago.boundary.plot()"
   ]
  },
  {
   "cell_type": "code",
   "execution_count": null,
   "id": "19af0a79",
   "metadata": {},
   "outputs": [],
   "source": [
    "chicago.plot(column=\"POP2010\",\n",
    "             cmap=\"OrRd\",\n",
    "             scheme=\"quantiles\",\n",
    "             k=5)"
   ]
  },
  {
   "cell_type": "markdown",
   "id": "aaae5666",
   "metadata": {},
   "source": [
    "### Missing data"
   ]
  },
  {
   "cell_type": "code",
   "execution_count": null,
   "id": "6543c68c",
   "metadata": {},
   "outputs": [],
   "source": [
    "chicago = gpd.read_file(geodatasets.get_path(\"geoda.chicago_commpop\"))\n",
    "chicago.loc[np.random.choice(chicago.index, 30), 'POP2010'] = np.nan\n",
    "chicago.plot(column=\"POP2010\")\n"
   ]
  },
  {
   "cell_type": "code",
   "execution_count": null,
   "id": "9ce2aa35",
   "metadata": {},
   "outputs": [],
   "source": [
    "chicago.plot(\n",
    "    column=\"POP2010\",\n",
    "    legend=True,\n",
    "    legend_kwds={\"label\": \"Population by Census Tract\", \"orientation\": \"horizontal\"},\n",
    "    missing_kwds={\n",
    "        \"color\": \"lightgrey\",\n",
    "        \"edgecolor\": \"red\",\n",
    "        \"hatch\": \"///\",\n",
    "        \"label\": \"Missing values\",\n",
    "    },\n",
    ")"
   ]
  },
  {
   "cell_type": "markdown",
   "id": "9ae4558c",
   "metadata": {},
   "source": [
    "### Other map customization"
   ]
  },
  {
   "cell_type": "code",
   "execution_count": null,
   "id": "4bff0d1e",
   "metadata": {},
   "outputs": [],
   "source": [
    "ax = chicago.plot()\n",
    "ax.set_axis_off()\n"
   ]
  },
  {
   "cell_type": "markdown",
   "id": "16ca174e",
   "metadata": {},
   "source": [
    "### Maps with layers"
   ]
  },
  {
   "cell_type": "code",
   "execution_count": null,
   "id": "bf13822c",
   "metadata": {},
   "outputs": [],
   "source": [
    "# Loo at capitals\n",
    "# Note use of standard 'pyplot' line stle options\n",
    "groceries.plot(\n",
    "    marker='*',\n",
    "    color='green',\n",
    "    markersize=5,\n",
    ")\n",
    "\n",
    "# check crs\n",
    "groceries = groceries.to_crs(chicago.crs)"
   ]
  },
  {
   "cell_type": "markdown",
   "id": "f39a5a72",
   "metadata": {},
   "source": [
    "#### Method 1: Using the `plot` method"
   ]
  },
  {
   "cell_type": "code",
   "execution_count": null,
   "id": "6bc59e65",
   "metadata": {},
   "outputs": [],
   "source": [
    "base = chicago.plot(color = 'white', edgecolor='black')\n",
    "groceries.plot(ax=base, marker='o', color='red', markersize=5)"
   ]
  },
  {
   "cell_type": "markdown",
   "id": "081e42de",
   "metadata": {},
   "source": [
    "#### Method 2: Using matplotlib objects"
   ]
  },
  {
   "cell_type": "code",
   "execution_count": null,
   "id": "c36a40e1",
   "metadata": {},
   "outputs": [],
   "source": [
    "fig, ax = plt.subplots(1, 1)\n",
    "\n",
    "chicago.plot(ax=ax, color='white', edgecolor='black')\n",
    "groceries.plot(ax=ax, marker='o', color='red', markersize=5)"
   ]
  },
  {
   "cell_type": "markdown",
   "id": "a27f9356",
   "metadata": {},
   "source": [
    "### Control the order of multiple layers in a plot"
   ]
  },
  {
   "cell_type": "code",
   "execution_count": null,
   "id": "f8f83d63",
   "metadata": {},
   "outputs": [],
   "source": [
    "ax = groceries.plot(color='k')\n",
    "chicago.plot(ax=ax)"
   ]
  },
  {
   "cell_type": "code",
   "execution_count": null,
   "id": "25c1451f",
   "metadata": {},
   "outputs": [],
   "source": [
    "ax = groceries.plot(\n",
    "    marker='o',\n",
    "    color='red',\n",
    "    markersize=10,\n",
    "    figsize=(5, 5),\n",
    "    alpha=0.5,\n",
    "    zorder=2\n",
    ")\n",
    "chicago.plot(ax=ax, zorder=1)"
   ]
  },
  {
   "cell_type": "markdown",
   "id": "63bfe3e0",
   "metadata": {},
   "source": [
    "### Pandas plots"
   ]
  },
  {
   "cell_type": "code",
   "execution_count": null,
   "id": "2ac72adf",
   "metadata": {},
   "outputs": [],
   "source": [
    "chicago.plot(\n",
    "    kind='scatter',\n",
    "    x='POP2010',\n",
    "    y='POP2000'\n",
    ")"
   ]
  },
  {
   "cell_type": "code",
   "execution_count": null,
   "id": "76b8cf42",
   "metadata": {},
   "outputs": [],
   "source": [
    "chicago[['POP2000', 'POP2010']].plot.hist(alpha=0.4)"
   ]
  }
 ],
 "metadata": {
  "kernelspec": {
   "display_name": "base",
   "language": "python",
   "name": "python3"
  },
  "language_info": {
   "codemirror_mode": {
    "name": "ipython",
    "version": 3
   },
   "file_extension": ".py",
   "mimetype": "text/x-python",
   "name": "python",
   "nbconvert_exporter": "python",
   "pygments_lexer": "ipython3",
   "version": "3.12.7"
  }
 },
 "nbformat": 4,
 "nbformat_minor": 5
}
