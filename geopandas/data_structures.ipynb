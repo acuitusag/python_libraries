{
 "cells": [
  {
   "cell_type": "markdown",
   "id": "b6f69adf",
   "metadata": {},
   "source": [
    "# Data structures"
   ]
  },
  {
   "cell_type": "code",
   "execution_count": null,
   "id": "7233bafe",
   "metadata": {},
   "outputs": [],
   "source": [
    "import geodatasets\n",
    "import geopandas as gpd\n",
    "import pandas as pd"
   ]
  },
  {
   "cell_type": "markdown",
   "id": "030ddf0c",
   "metadata": {},
   "source": [
    "## GeoDataFrame"
   ]
  },
  {
   "cell_type": "code",
   "execution_count": null,
   "id": "398073a7",
   "metadata": {},
   "outputs": [],
   "source": [
    "path = geodatasets.get_path(\"geoda.malaria\")\n",
    "print(path)\n",
    "colombia = gpd.read_file(path)\n",
    "colombia.head"
   ]
  },
  {
   "cell_type": "code",
   "execution_count": null,
   "id": "a7b4ea72",
   "metadata": {},
   "outputs": [],
   "source": [
    "colombia.columns"
   ]
  },
  {
   "cell_type": "code",
   "execution_count": null,
   "id": "3f19ea0e",
   "metadata": {},
   "outputs": [],
   "source": [
    "colombia.index"
   ]
  },
  {
   "cell_type": "code",
   "execution_count": null,
   "id": "f13967d7",
   "metadata": {},
   "outputs": [],
   "source": [
    "colombia.plot(markersize=0.5)"
   ]
  },
  {
   "cell_type": "code",
   "execution_count": null,
   "id": "99b79392",
   "metadata": {},
   "outputs": [],
   "source": [
    "colombia.geometry.name"
   ]
  },
  {
   "cell_type": "code",
   "execution_count": null,
   "id": "17911cc9",
   "metadata": {},
   "outputs": [],
   "source": [
    "colombia = colombia.rename_geometry('borders')\n",
    "colombia.geometry.name"
   ]
  },
  {
   "cell_type": "code",
   "execution_count": null,
   "id": "8d48853b",
   "metadata": {},
   "outputs": [],
   "source": [
    "colombia['centroid_column'] = colombia.centroid\n",
    "colombia.set_geometry('centroid_column', inplace=True)\n",
    "colombia.geometry.name"
   ]
  },
  {
   "cell_type": "code",
   "execution_count": null,
   "id": "4c35e0d6",
   "metadata": {},
   "outputs": [],
   "source": [
    "colombia.plot()"
   ]
  },
  {
   "cell_type": "markdown",
   "id": "c4ec7657",
   "metadata": {},
   "source": [
    "## Display options"
   ]
  },
  {
   "cell_type": "code",
   "execution_count": null,
   "id": "d3d8b83d",
   "metadata": {},
   "outputs": [],
   "source": [
    "gpd.options"
   ]
  },
  {
   "cell_type": "code",
   "execution_count": 20,
   "id": "7b9f1ab4",
   "metadata": {},
   "outputs": [
    {
     "data": {
      "text/plain": [
       "0    POINT (-71.74594 12.00885)\n",
       "1    POINT (-72.56514 11.58174)\n",
       "2    POINT (-72.35203 11.32204)\n",
       "3    POINT (-73.14121 11.15251)\n",
       "4    POINT (-74.64555 10.88454)\n",
       "Name: centroid_column, dtype: geometry"
      ]
     },
     "execution_count": 20,
     "metadata": {},
     "output_type": "execute_result"
    }
   ],
   "source": [
    "colombia['centroid_column'].head()"
   ]
  },
  {
   "cell_type": "code",
   "execution_count": 21,
   "id": "addf485e",
   "metadata": {},
   "outputs": [
    {
     "data": {
      "text/plain": [
       "0    POINT (-71.745940217 12.008854228)\n",
       "1    POINT (-72.565144214 11.581744777)\n",
       "2    POINT (-72.352030378 11.322036612)\n",
       "3      POINT (-73.1412073 11.152507044)\n",
       "4    POINT (-74.645551117 10.884543716)\n",
       "Name: centroid_column, dtype: geometry"
      ]
     },
     "execution_count": 21,
     "metadata": {},
     "output_type": "execute_result"
    }
   ],
   "source": [
    "gpd.options.display_precision = 9\n",
    "colombia['centroid_column'].head()"
   ]
  }
 ],
 "metadata": {
  "kernelspec": {
   "display_name": "base",
   "language": "python",
   "name": "python3"
  },
  "language_info": {
   "codemirror_mode": {
    "name": "ipython",
    "version": 3
   },
   "file_extension": ".py",
   "mimetype": "text/x-python",
   "name": "python",
   "nbconvert_exporter": "python",
   "pygments_lexer": "ipython3",
   "version": "3.12.7"
  }
 },
 "nbformat": 4,
 "nbformat_minor": 5
}
