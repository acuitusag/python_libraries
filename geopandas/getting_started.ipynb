{
 "cells": [
  {
   "cell_type": "markdown",
   "id": "878646b8",
   "metadata": {},
   "source": [
    "# Introduction to GeoPandas"
   ]
  },
  {
   "cell_type": "markdown",
   "id": "9ebb24c2",
   "metadata": {},
   "source": [
    "## Preliminaries"
   ]
  },
  {
   "cell_type": "code",
   "execution_count": null,
   "id": "a19e602a",
   "metadata": {},
   "outputs": [],
   "source": [
    "import geopandas as gpd\n",
    "import pandas as pd\n",
    "import numpy as np\n",
    "import matplotlib.pyplot as plt\n",
    "import folium\n",
    "import contextily as cx\n",
    "from geodatasets import get_path"
   ]
  },
  {
   "cell_type": "markdown",
   "id": "cdfc225d",
   "metadata": {},
   "source": [
    "## Reading and writing files\n",
    "### Reading files"
   ]
  },
  {
   "cell_type": "code",
   "execution_count": null,
   "id": "4f846aa3",
   "metadata": {},
   "outputs": [],
   "source": [
    "path_to_data = get_path(\"nybb\")\n",
    "gdf = gpd.read_file(path_to_data)\n",
    "gdf"
   ]
  },
  {
   "cell_type": "markdown",
   "id": "398bc044",
   "metadata": {},
   "source": [
    "### Writing Files"
   ]
  },
  {
   "cell_type": "code",
   "execution_count": null,
   "id": "2ba467e9",
   "metadata": {},
   "outputs": [],
   "source": [
    "gdf.to_file(\"my_file.geojon\", driver=\"GeoJSON\")"
   ]
  },
  {
   "cell_type": "markdown",
   "id": "daf39edf",
   "metadata": {},
   "source": [
    "## Simple accessors and methods\n",
    "\n",
    "### Measuring area"
   ]
  },
  {
   "cell_type": "code",
   "execution_count": null,
   "id": "ca4f93fc",
   "metadata": {},
   "outputs": [],
   "source": [
    "gdf = gdf.set_index(\"BoroName\")"
   ]
  },
  {
   "cell_type": "code",
   "execution_count": null,
   "id": "f7d04eb7",
   "metadata": {},
   "outputs": [],
   "source": [
    "gdf['area'] = gdf.area\n",
    "gdf['area']"
   ]
  },
  {
   "cell_type": "markdown",
   "id": "ce944475",
   "metadata": {},
   "source": [
    "### Getting polygon boundary and centroid"
   ]
  },
  {
   "cell_type": "code",
   "execution_count": null,
   "id": "75d275f8",
   "metadata": {},
   "outputs": [],
   "source": [
    "gdf['boundary'] = gdf.boundary\n",
    "gdf['boundary']"
   ]
  },
  {
   "cell_type": "markdown",
   "id": "0044ed3e",
   "metadata": {},
   "source": [
    "#### Comparison of polygon and boundary"
   ]
  },
  {
   "cell_type": "code",
   "execution_count": null,
   "id": "2811bbca",
   "metadata": {},
   "outputs": [],
   "source": [
    "fig, ax = plt.subplots(1, 2, figsize=(12, 6))\n",
    "gdf.plot(ax=ax[0], column='BoroCode', edgecolor='black')\n",
    "gdf['boundary'].plot(ax=ax[1], edgecolor='red')"
   ]
  },
  {
   "cell_type": "markdown",
   "id": "89c9d0be",
   "metadata": {},
   "source": [
    "#### Another approach to comparison of polygons and boundaries"
   ]
  },
  {
   "cell_type": "code",
   "execution_count": null,
   "id": "406a00f5",
   "metadata": {},
   "outputs": [],
   "source": [
    "fig, ax = plt.subplots(1, 2, figsize=(12, 6))\n",
    "gdf.plot(ax=ax[0], column='BoroCode', edgecolor='black')\n",
    "gdf.boundary.plot(ax=ax[1], edgecolor='red')"
   ]
  },
  {
   "cell_type": "code",
   "execution_count": null,
   "id": "fffed831",
   "metadata": {},
   "outputs": [],
   "source": [
    "gdf['centroid'] = gdf.centroid\n",
    "gdf['centroid']"
   ]
  },
  {
   "cell_type": "markdown",
   "id": "e9284354",
   "metadata": {},
   "source": [
    "#### Centroids with polygons and boundaries"
   ]
  },
  {
   "cell_type": "code",
   "execution_count": null,
   "id": "2022458b",
   "metadata": {},
   "outputs": [],
   "source": [
    "m = gdf.plot(column='BoroCode', edgecolor='black', figsize=(12, 6))\n",
    "gdf.boundary.plot(ax=m, edgecolor='red', linewidth=0.5)\n",
    "gdf.centroid.plot(ax=m, color='red', markersize=20)"
   ]
  },
  {
   "cell_type": "markdown",
   "id": "f10cff68",
   "metadata": {},
   "source": [
    "#### Centroids on dynamic map using explore"
   ]
  },
  {
   "cell_type": "code",
   "execution_count": null,
   "id": "6d8cfaed",
   "metadata": {},
   "outputs": [],
   "source": [
    "m = gdf.explore(column='BoroCode', height=600, width=800)\n",
    "gdf.centroid.explore(\n",
    "    m=m,\n",
    "    marker_kwds=dict(color='red', radius=5)\n",
    ")\n",
    "m"
   ]
  },
  {
   "cell_type": "markdown",
   "id": "7f667ef9",
   "metadata": {},
   "source": [
    "#### Centroids on dynamic map using Esri WorldImagery base map"
   ]
  },
  {
   "cell_type": "code",
   "execution_count": null,
   "id": "aac02029",
   "metadata": {},
   "outputs": [],
   "source": [
    "gdf[\"Name\"] = gdf.index\n",
    "\n",
    "m = gdf.explore(\n",
    "    column=\"Name\",  # make choropleth based on \"BoroName\" column\n",
    "    tooltip=\"Name\",  # show \"BoroName\" value in tooltip (on hover)\n",
    "    popup=True,  # show all values in popup (on click)\n",
    "    tiles=\"Esri WorldImagery\",  # use \"CartoDB positron\" tiles\n",
    "    cmap=\"Set1\",  # use \"Set1\" matplotlib colormap\n",
    "    style_kwds=dict(color=\"black\"),\n",
    "    legend=False,  # use black outline\n",
    "    height=600,  # set height of map to 600 pixels\n",
    "    width=800,  # set width of map to 800 pixels\n",
    ")\n",
    "\n",
    "gdf.centroid.explore(m=m)"
   ]
  },
  {
   "cell_type": "markdown",
   "id": "cc181df8",
   "metadata": {},
   "source": [
    "#### Buffers around centroids on dynamic map using ESri WorldImagery base map"
   ]
  },
  {
   "cell_type": "code",
   "execution_count": null,
   "id": "ef75c895",
   "metadata": {},
   "outputs": [],
   "source": [
    "buffers = gdf.centroid.buffer(2500)\n",
    "buffers = gpd.GeoDataFrame(\n",
    "    geometry=buffers,\n",
    "    crs=gdf.crs,\n",
    "    index=gdf.index\n",
    ")\n",
    "\n",
    "m = gdf.explore(\n",
    "    column=\"Name\",  # make choropleth based on \"BoroName\" column\n",
    "    tooltip=\"Name\",  # show \"BoroName\" value in tooltip (on hover)\n",
    "    popup=True,  # show all values in popup (on click)\n",
    "    tiles=\"Esri WorldImagery\",  # use \"CartoDB positron\" tiles\n",
    "    cmap=\"Set1\",  # use \"Set1\" matplotlib colormap\n",
    "    style_kwds=dict(color=\"black\"),\n",
    "    legend=False,  # use black outline\n",
    "    width=800,  # set width of map to 800 pixels\n",
    "    height=600  # set height of map to 600 pixels\n",
    ")\n",
    "\n",
    "buffers.explore(\n",
    "    m=m\n",
    ")"
   ]
  },
  {
   "cell_type": "markdown",
   "id": "4bc29bdd",
   "metadata": {},
   "source": [
    "### Measuring distance"
   ]
  },
  {
   "cell_type": "code",
   "execution_count": null,
   "id": "e215653a",
   "metadata": {},
   "outputs": [],
   "source": [
    "first_point = gdf.centroid.iloc[0]\n",
    "gdf['distance'] = gdf.centroid.distance(first_point)\n",
    "gdf['distance']"
   ]
  },
  {
   "cell_type": "code",
   "execution_count": null,
   "id": "e68023f9",
   "metadata": {},
   "outputs": [],
   "source": [
    "gdf['distance'].mean()"
   ]
  },
  {
   "cell_type": "markdown",
   "id": "298824c2",
   "metadata": {},
   "source": [
    "### Making maps"
   ]
  },
  {
   "cell_type": "code",
   "execution_count": null,
   "id": "52104746",
   "metadata": {},
   "outputs": [],
   "source": [
    "gdf.set_geometry('geometry', inplace=True)\n",
    "gdfw = gdf.to_crs(epsg=3857)\n",
    "\n",
    "fig, ax = plt.subplots(figsize=(6, 6))\n",
    "gdfw.plot(ax=ax,\n",
    "          column='area',\n",
    "          edgecolor='black',\n",
    "          legend=True)\n",
    "cx.add_basemap(ax, source=cx.providers.Esri.WorldImagery, zoom=12)\n",
    "ax.set_title('Boroughs of New York City')"
   ]
  },
  {
   "cell_type": "code",
   "execution_count": null,
   "id": "0ad22ec1",
   "metadata": {},
   "outputs": [],
   "source": [
    "gdf.explore(column=\"area\",\n",
    "            tiles='Esri WorldImagery',\n",
    "            legend=False,\n",
    "            height=500,\n",
    "            width=800,\n",
    "            control_scale=True)"
   ]
  },
  {
   "cell_type": "code",
   "execution_count": null,
   "id": "b8ac7730",
   "metadata": {},
   "outputs": [],
   "source": [
    "gdfw['centroid'] = gdfw.centroid.to_crs(epsg=3857)\n",
    "ax = gdfw.plot(column='area',\n",
    "               edgecolor='black',\n",
    "               legend=True,\n",
    "               alpha=0.2)\n",
    "gdfw['centroid'].plot(ax=ax,\n",
    "                      color='red',\n",
    "                      markersize=20)\n",
    "cx.add_basemap(ax, source=cx.providers.Esri.WorldImagery, zoom=12)"
   ]
  },
  {
   "cell_type": "markdown",
   "id": "cc0481fa",
   "metadata": {},
   "source": [
    "## Geometry creation\n",
    "### Convex hull"
   ]
  },
  {
   "cell_type": "code",
   "execution_count": null,
   "id": "67d0e746",
   "metadata": {},
   "outputs": [],
   "source": [
    "gdf['convex_hull'] = gdf.convex_hull"
   ]
  },
  {
   "cell_type": "code",
   "execution_count": null,
   "id": "c4b09901",
   "metadata": {},
   "outputs": [],
   "source": [
    "ax = gdf['convex_hull'].plot(edgecolor='black', alpha=0.5, figsize=(12, 6))\n",
    "gdf['boundary'].plot(ax=ax, edgecolor='red', linewidth=0.5)"
   ]
  },
  {
   "cell_type": "markdown",
   "id": "fb473bf6",
   "metadata": {},
   "source": [
    "### Buffer"
   ]
  },
  {
   "cell_type": "code",
   "execution_count": null,
   "id": "1159dca8",
   "metadata": {},
   "outputs": [],
   "source": [
    "gdf['buffered'] = gdf.buffer(10_000)\n",
    "gdf['buffered_centroid'] = gdf['centroid'].buffer(10_000)\n",
    "\n",
    "ax = gdf['buffered'].plot(edgecolor='black', alpha=0.5)\n",
    "gdf['buffered_centroid'].plot(\n",
    "    ax=ax, color='red', edgecolor='red', linewidth=0.5)\n",
    "gdf['boundary'].plot(ax=ax, edgecolor='blue', linewidth=0.5)\n",
    "ax.set_title('Buffer of 10 km around borough centroids')"
   ]
  },
  {
   "cell_type": "markdown",
   "id": "1ee6b98b",
   "metadata": {},
   "source": [
    "### Geometry relations"
   ]
  },
  {
   "cell_type": "code",
   "execution_count": null,
   "id": "215fcb9c",
   "metadata": {},
   "outputs": [],
   "source": [
    "brooklyn = gdf.loc[\"Brooklyn\", \"geometry\"]\n",
    "brooklyn"
   ]
  },
  {
   "cell_type": "code",
   "execution_count": null,
   "id": "0be79de9",
   "metadata": {},
   "outputs": [],
   "source": [
    "type(brooklyn)"
   ]
  },
  {
   "cell_type": "code",
   "execution_count": null,
   "id": "df1c52a9",
   "metadata": {},
   "outputs": [],
   "source": [
    "gdf['buffered'].intersects(brooklyn)"
   ]
  },
  {
   "cell_type": "code",
   "execution_count": null,
   "id": "8814121e",
   "metadata": {},
   "outputs": [],
   "source": [
    "gdf['within'] = gdf['buffered_centroid'].within(gdf)\n",
    "gdf = gdf.set_geometry(\"buffered_centroid\")\n",
    "\n",
    "ax = gdf.plot(\n",
    "    \"within\",\n",
    "    categorical=True,\n",
    "    legend=True,\n",
    "    alpha=0.5,\n",
    "    legend_kwds={\"loc\": \"upper left\"}\n",
    ")\n",
    "gdf['boundary'].plot(ax=ax, color='black', linewidth=0.5)"
   ]
  }
 ],
 "metadata": {
  "kernelspec": {
   "display_name": "base",
   "language": "python",
   "name": "python3"
  },
  "language_info": {
   "codemirror_mode": {
    "name": "ipython",
    "version": 3
   },
   "file_extension": ".py",
   "mimetype": "text/x-python",
   "name": "python",
   "nbconvert_exporter": "python",
   "pygments_lexer": "ipython3",
   "version": "3.12.7"
  }
 },
 "nbformat": 4,
 "nbformat_minor": 5
}
