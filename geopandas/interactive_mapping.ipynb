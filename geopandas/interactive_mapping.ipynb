{
 "cells": [
  {
   "cell_type": "markdown",
   "id": "f1884251",
   "metadata": {},
   "source": [
    "# Interactive mapping"
   ]
  },
  {
   "cell_type": "code",
   "execution_count": null,
   "id": "ce7c3bc3",
   "metadata": {},
   "outputs": [],
   "source": [
    "import geopandas as gpd\n",
    "import pandas as pd \n",
    "import geodatasets\n",
    "import folium\n",
    "\n",
    "nybb = gpd.read_file(geodatasets.get_path('nybb'))\n",
    "chicago = gpd.read_file(geodatasets.get_path('geoda.chicago_commpop'))\n",
    "groceries = gpd.read_file(geodatasets.get_path('geoda.groceries')) \\\n",
    "    .explode(ignore_index=True)"
   ]
  },
  {
   "cell_type": "code",
   "execution_count": null,
   "id": "5e192db7",
   "metadata": {},
   "outputs": [],
   "source": [
    "nybb.explore()"
   ]
  },
  {
   "cell_type": "code",
   "execution_count": null,
   "id": "2aebe2b8",
   "metadata": {},
   "outputs": [],
   "source": [
    "nybb.explore(\n",
    "    column='BoroName',\n",
    "    tooltip=['BoroName', 'Shape_Area'],\n",
    "    popup=True,\n",
    "    tiles='CartoDB positron',\n",
    "    cmap='Set1',\n",
    "    style_kwds=dict(color='black', weight=0.5),\n",
    ")"
   ]
  },
  {
   "cell_type": "code",
   "execution_count": null,
   "id": "7fd72712",
   "metadata": {},
   "outputs": [],
   "source": [
    "m = chicago.explore(\n",
    "    column='POP2010',\n",
    "    scheme='naturalbreaks',\n",
    "    legend=True,\n",
    "    k=10,\n",
    "    tooltip=False,\n",
    "    popup=['POP2010', 'POP2000'],\n",
    "    legend_kwds=dict(colorbar=False),\n",
    "    name='Chicago'\n",
    ")\n",
    "\n",
    "groceries.explore(\n",
    "    m=m,\n",
    "    color='red',\n",
    "    marker_kwds=dict(radius=5, fill=True),\n",
    "    tooltip='Address',\n",
    "    tooltip_kwds=dict(labels=False),\n",
    "    name='groceries'\n",
    ")\n",
    "\n",
    "folium.TileLayer('CartoDB positron', show=False).add_to(m)\n",
    "folium.LayerControl().add_to(m)\n",
    "\n",
    "m"
   ]
  }
 ],
 "metadata": {
  "kernelspec": {
   "display_name": "base",
   "language": "python",
   "name": "python3"
  },
  "language_info": {
   "codemirror_mode": {
    "name": "ipython",
    "version": 3
   },
   "file_extension": ".py",
   "mimetype": "text/x-python",
   "name": "python",
   "nbconvert_exporter": "python",
   "pygments_lexer": "ipython3",
   "version": "3.12.7"
  }
 },
 "nbformat": 4,
 "nbformat_minor": 5
}
