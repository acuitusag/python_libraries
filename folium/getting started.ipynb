{
 "cells": [
  {
   "cell_type": "markdown",
   "id": "4fdbcb7c",
   "metadata": {},
   "source": [
    "# Folium Getting Started\n",
    "## Creating a Map"
   ]
  },
  {
   "cell_type": "code",
   "execution_count": null,
   "id": "817989b2",
   "metadata": {},
   "outputs": [],
   "source": [
    "import folium\n",
    "import xyzservices.providers as xyz\n",
    "import matplotlib.pyplot as plt\n",
    "import geopandas as gpd\n",
    "import pandas as pd"
   ]
  },
  {
   "cell_type": "code",
   "execution_count": null,
   "id": "7a0122f1",
   "metadata": {},
   "outputs": [],
   "source": [
    "lon, lat = -38.625, -12.875\n",
    "zoom_start = 8"
   ]
  },
  {
   "cell_type": "code",
   "execution_count": null,
   "id": "fee85014",
   "metadata": {},
   "outputs": [],
   "source": [
    "m = folium.Map(location=[lat, lon], zoom_start=zoom_start, control_scale=True)\n",
    "m"
   ]
  },
  {
   "cell_type": "code",
   "execution_count": null,
   "id": "0a63ba26",
   "metadata": {},
   "outputs": [],
   "source": [
    "m.save(\"index.html\")"
   ]
  },
  {
   "cell_type": "markdown",
   "id": "1ad52827",
   "metadata": {},
   "source": [
    "## Choosing a tileset"
   ]
  },
  {
   "cell_type": "code",
   "execution_count": null,
   "id": "49cee9f3",
   "metadata": {},
   "outputs": [],
   "source": [
    "folium.Map((45.5236, -122.6750), zoom_start=13, tiles=\"cartodb positron\")"
   ]
  },
  {
   "cell_type": "code",
   "execution_count": null,
   "id": "451ad05b",
   "metadata": {},
   "outputs": [],
   "source": [
    "tiles = xyz.Esri.WorldImagery\n",
    "\n",
    "m = folium.Map(\n",
    "    location=[lat, lon],\n",
    "    zoom_start=zoom_start,\n",
    "    control_scale=True,\n",
    "    tiles=tiles.build_url(),\n",
    "    attr=tiles.html_attribution\n",
    "    )\n",
    "m"
   ]
  },
  {
   "cell_type": "markdown",
   "id": "d4c988ae",
   "metadata": {},
   "source": [
    "## Adding markers"
   ]
  },
  {
   "cell_type": "code",
   "execution_count": null,
   "id": "49d20d99",
   "metadata": {},
   "outputs": [],
   "source": [
    "m = folium.Map(location=[45.35, -121.6972], zoom_start=12)\n",
    "\n",
    "folium.Marker(\n",
    "    location=[45.3288, -121.6625],\n",
    "    tooltip=\"Click me!\",\n",
    "    popup=\"Mount Hood Meadows\",\n",
    "    icon=folium.Icon(icon=\"cloud\"),\n",
    ").add_to(m)\n",
    "\n",
    "folium.Marker(\n",
    "    location=[45.3311, -121.7113],\n",
    "    tooltip=\"Click me!\",\n",
    "    popup=\"Timberline Lodge\",\n",
    "    icon=folium.Icon(color=\"green\"),\n",
    ").add_to(m)\n",
    "\n",
    "m"
   ]
  },
  {
   "cell_type": "markdown",
   "id": "d1d85d21",
   "metadata": {},
   "source": [
    "## Vectors such as lines"
   ]
  },
  {
   "cell_type": "code",
   "execution_count": null,
   "id": "62dc2a34",
   "metadata": {},
   "outputs": [],
   "source": [
    "m = folium.Map(location=[-71.38, -73.9], zoom_start=11)\n",
    "\n",
    "trail_coordinates = [\n",
    "    (-71.351871840295871, -73.655963711222626),\n",
    "    (-71.374144382613707, -73.719861619751498),\n",
    "    (-71.391042575973145, -73.784922248007007),\n",
    "    (-71.400964450973134, -73.851042243124397),\n",
    "    (-71.402411391077322, -74.050048183880477),\n",
    "]\n",
    "\n",
    "folium.PolyLine(trail_coordinates, tooltip=\"Coast\").add_to(m)\n",
    "\n",
    "m"
   ]
  },
  {
   "cell_type": "markdown",
   "id": "744a1176",
   "metadata": {},
   "source": [
    "## Grouping and controlling"
   ]
  },
  {
   "cell_type": "code",
   "execution_count": null,
   "id": "c7210121",
   "metadata": {},
   "outputs": [],
   "source": [
    "m = folium.Map((0, 0), zoom_start=7)\n",
    "\n",
    "group_1 = folium.FeatureGroup(\"first group\").add_to(m)\n",
    "folium.Marker((0, 0), icon=folium.Icon(\"red\")).add_to(group_1)\n",
    "folium.Marker((1, 0), icon=folium.Icon(\"red\")).add_to(group_1)\n",
    "\n",
    "group_2 = folium.FeatureGroup(\"second group\").add_to(m)\n",
    "folium.Marker((0, 1), icon=folium.Icon(\"green\")).add_to(group_2)\n",
    "\n",
    "folium.LayerControl().add_to(m)\n",
    "\n",
    "m"
   ]
  },
  {
   "cell_type": "markdown",
   "id": "3f32c7fe",
   "metadata": {},
   "source": [
    "## GeoJSON/TopoJSON overlays"
   ]
  },
  {
   "cell_type": "code",
   "execution_count": null,
   "id": "98189774",
   "metadata": {},
   "outputs": [],
   "source": [
    "import requests\n",
    "\n",
    "m = folium.Map(tiles=\"cartodbpositron\")\n",
    "file_url = \"https://raw.githubusercontent.com/python-visualization/folium-example-data/main/world_countries.json\"\n",
    "\n",
    "geojson_data = requests.get(file_url).json()\n",
    "\n",
    "folium.GeoJson(geojson_data, name=\"hello world\").add_to(m)\n",
    "\n",
    "folium.LayerControl().add_to(m)\n",
    "\n",
    "m"
   ]
  },
  {
   "cell_type": "code",
   "execution_count": null,
   "id": "f22f19db",
   "metadata": {},
   "outputs": [],
   "source": [
    "gdf = gpd.read_file(file_url)\n",
    "\n",
    "geo_data = gpd.GeoDataFrame(gdf)\n",
    "m = geo_data.explore(\n",
    "    tiles=\"Esri, WorldImagery\",\n",
    "    name=\"hello world\",\n",
    ")\n",
    "\n",
    "folium.LayerControl().add_to(m)\n",
    "\n",
    "m"
   ]
  },
  {
   "cell_type": "markdown",
   "id": "f6e2338c",
   "metadata": {},
   "source": [
    "## Choropleth maps"
   ]
  },
  {
   "cell_type": "code",
   "execution_count": null,
   "id": "3fbdd391",
   "metadata": {},
   "outputs": [],
   "source": [
    "state_geo = requests.get(\n",
    "    \"https://raw.githubusercontent.com/python-visualization/folium-example-data/main/us_states.json\"\n",
    ").json()\n",
    "state_data = pd.read_csv(\n",
    "    \"https://raw.githubusercontent.com/python-visualization/folium-example-data/main/us_unemployment_oct_2012.csv\"\n",
    ")\n",
    "\n",
    "m = folium.Map(location=[48, -102], zoom_start=3)\n",
    "\n",
    "folium.Choropleth(\n",
    "    geo_data=state_geo,\n",
    "    name=\"choropleth\",\n",
    "    data=state_data,\n",
    "    columns=[\"State\", \"Unemployment\"],\n",
    "    key_on=\"feature.id\",\n",
    "    fill_color=\"YlGn\",\n",
    "    fill_opacity=0.7,\n",
    "    line_opacity=0.2,\n",
    "    legend_name=\"Unemployment Rate (%)\",\n",
    ").add_to(m)\n",
    "\n",
    "folium.LayerControl().add_to(m)\n",
    "\n",
    "m"
   ]
  },
  {
   "cell_type": "code",
   "execution_count": null,
   "id": "63e38a42",
   "metadata": {},
   "outputs": [],
   "source": [
    "state_geo = gpd.GeoDataFrame.from_features(state_geo)\n",
    "map_data= pd.merge(state_geo, state_data, left_index=True, right_index=True)\n",
    "\n",
    "m = folium.Map(\n",
    "    location=[48, -102],\n",
    "    zoom_start=3,\n",
    "        )\n",
    "\n",
    "m = map_data.explore(\n",
    "    tiles=\"Esri, WorldImagery\",\n",
    "    m=m,\n",
    "    column=\"Unemployment\",\n",
    "    legend=True,\n",
    "    cmap=\"YlGn\",\n",
    "    name=\"choropleth\"\n",
    ")\n",
    "\n",
    "folium.LayerControl().add_to(m)\n",
    "\n",
    "m"
   ]
  },
  {
   "cell_type": "code",
   "execution_count": null,
   "id": "339731ef",
   "metadata": {},
   "outputs": [],
   "source": [
    "tiles = xyz.Esri.WorldImagery\n",
    "\n",
    "m = folium.Map(\n",
    "    location=[48, -102],\n",
    "    tiles=tiles.build_url(),\n",
    "    attr=tiles.html_attribution,\n",
    "    zoom_start=3,\n",
    "        )\n",
    "m = map_data.explore(\n",
    "    m=m,\n",
    "    column=\"Unemployment\",\n",
    "    legend=True,\n",
    "    cmap=\"YlGn\",\n",
    "    name=\"choropleth\"\n",
    ")\n",
    "\n",
    "folium.LayerControl().add_to(m)\n",
    "\n",
    "m"
   ]
  }
 ],
 "metadata": {
  "kernelspec": {
   "display_name": "base",
   "language": "python",
   "name": "python3"
  },
  "language_info": {
   "codemirror_mode": {
    "name": "ipython",
    "version": 3
   },
   "file_extension": ".py",
   "mimetype": "text/x-python",
   "name": "python",
   "nbconvert_exporter": "python",
   "pygments_lexer": "ipython3",
   "version": "3.12.7"
  }
 },
 "nbformat": 4,
 "nbformat_minor": 5
}
